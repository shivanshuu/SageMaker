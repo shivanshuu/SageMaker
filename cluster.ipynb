{
 "cells": [
  {
   "cell_type": "markdown",
   "metadata": {},
   "source": [
    "# Clustering on Sell To & Rebate Data"
   ]
  },
  {
   "cell_type": "code",
   "execution_count": 18,
   "metadata": {},
   "outputs": [],
   "source": [
    "# Read the Data from S3\n",
    "\n",
    "import boto3\n",
    "import pandas as pd\n",
    "from sagemaker import get_execution_role\n",
    "role = get_execution_role()\n",
    "bucket='apjprintsupply'\n",
    "data_locationsellTo = 's3://{}/APJ_Supplies/SampleData_MVC_transformed.xlsx'.format(bucket)\n",
    "sellThru=pd.read_excel(data_locationsellTo, sheet_name='Sell To & Rebates')\n"
   ]
  },
  {
   "cell_type": "code",
   "execution_count": 19,
   "metadata": {},
   "outputs": [
    {
     "data": {
      "text/html": [
       "<div>\n",
       "<style scoped>\n",
       "    .dataframe tbody tr th:only-of-type {\n",
       "        vertical-align: middle;\n",
       "    }\n",
       "\n",
       "    .dataframe tbody tr th {\n",
       "        vertical-align: top;\n",
       "    }\n",
       "\n",
       "    .dataframe thead th {\n",
       "        text-align: right;\n",
       "    }\n",
       "</style>\n",
       "<table border=\"1\" class=\"dataframe\">\n",
       "  <thead>\n",
       "    <tr style=\"text-align: right;\">\n",
       "      <th></th>\n",
       "      <th>ResellerID</th>\n",
       "      <th>ResellerName</th>\n",
       "      <th>AccountId</th>\n",
       "      <th>CustomerName</th>\n",
       "      <th>Shipment Report Month</th>\n",
       "      <th>CountryId</th>\n",
       "      <th>SKUID</th>\n",
       "      <th>SKU Ship quantity</th>\n",
       "      <th>GROSS SELL TO (LC)</th>\n",
       "      <th>TOTAL REBATES (LC)</th>\n",
       "      <th>NET SELL-TO (LC)</th>\n",
       "      <th>ROI</th>\n",
       "    </tr>\n",
       "  </thead>\n",
       "  <tbody>\n",
       "    <tr>\n",
       "      <th>0</th>\n",
       "      <td>Reseller_ID1</td>\n",
       "      <td>Reseller Name 1</td>\n",
       "      <td>A-AU-Mun-2596123</td>\n",
       "      <td>Customer Name</td>\n",
       "      <td>2018-07-01</td>\n",
       "      <td>AU</td>\n",
       "      <td>1</td>\n",
       "      <td>2</td>\n",
       "      <td>95.58</td>\n",
       "      <td>6.82</td>\n",
       "      <td>88.76</td>\n",
       "      <td>13.014663</td>\n",
       "    </tr>\n",
       "    <tr>\n",
       "      <th>1</th>\n",
       "      <td>Reseller_ID2</td>\n",
       "      <td>Reseller Name 2</td>\n",
       "      <td>A-AU-Mun-2596123</td>\n",
       "      <td>Customer Name</td>\n",
       "      <td>2018-07-01</td>\n",
       "      <td>AU</td>\n",
       "      <td>2</td>\n",
       "      <td>3</td>\n",
       "      <td>143.37</td>\n",
       "      <td>10.23</td>\n",
       "      <td>133.14</td>\n",
       "      <td>13.014663</td>\n",
       "    </tr>\n",
       "    <tr>\n",
       "      <th>2</th>\n",
       "      <td>Reseller_ID3</td>\n",
       "      <td>Reseller Name 3</td>\n",
       "      <td>A-AU-Mun-2596123</td>\n",
       "      <td>Customer Name</td>\n",
       "      <td>2018-07-01</td>\n",
       "      <td>AU</td>\n",
       "      <td>3</td>\n",
       "      <td>4</td>\n",
       "      <td>191.16</td>\n",
       "      <td>13.64</td>\n",
       "      <td>177.52</td>\n",
       "      <td>13.014663</td>\n",
       "    </tr>\n",
       "    <tr>\n",
       "      <th>3</th>\n",
       "      <td>Reseller_ID4</td>\n",
       "      <td>Reseller Name 4</td>\n",
       "      <td>A-AU-Mun-2596123</td>\n",
       "      <td>Customer Name</td>\n",
       "      <td>2018-07-01</td>\n",
       "      <td>AU</td>\n",
       "      <td>4</td>\n",
       "      <td>2</td>\n",
       "      <td>56.38</td>\n",
       "      <td>4.02</td>\n",
       "      <td>52.36</td>\n",
       "      <td>13.024876</td>\n",
       "    </tr>\n",
       "    <tr>\n",
       "      <th>4</th>\n",
       "      <td>Reseller_ID5</td>\n",
       "      <td>Reseller Name 5</td>\n",
       "      <td>A-AU-Mun-2596123</td>\n",
       "      <td>Customer Name</td>\n",
       "      <td>2018-07-01</td>\n",
       "      <td>AU</td>\n",
       "      <td>5</td>\n",
       "      <td>1</td>\n",
       "      <td>44.77</td>\n",
       "      <td>3.20</td>\n",
       "      <td>41.57</td>\n",
       "      <td>12.990625</td>\n",
       "    </tr>\n",
       "    <tr>\n",
       "      <th>5</th>\n",
       "      <td>Reseller_ID6</td>\n",
       "      <td>Reseller Name 6</td>\n",
       "      <td>A-AU-Mun-2596123</td>\n",
       "      <td>Customer Name</td>\n",
       "      <td>2018-07-01</td>\n",
       "      <td>AU</td>\n",
       "      <td>6</td>\n",
       "      <td>1</td>\n",
       "      <td>14.31</td>\n",
       "      <td>1.02</td>\n",
       "      <td>13.29</td>\n",
       "      <td>13.029412</td>\n",
       "    </tr>\n",
       "    <tr>\n",
       "      <th>6</th>\n",
       "      <td>Reseller_ID7</td>\n",
       "      <td>Reseller Name 7</td>\n",
       "      <td>A-AU-Mun-2596123</td>\n",
       "      <td>Customer Name</td>\n",
       "      <td>2018-07-01</td>\n",
       "      <td>AU</td>\n",
       "      <td>7</td>\n",
       "      <td>1</td>\n",
       "      <td>14.31</td>\n",
       "      <td>1.02</td>\n",
       "      <td>13.29</td>\n",
       "      <td>13.029412</td>\n",
       "    </tr>\n",
       "    <tr>\n",
       "      <th>7</th>\n",
       "      <td>Reseller_ID8</td>\n",
       "      <td>Reseller Name 8</td>\n",
       "      <td>A-AU-Mun-2596123</td>\n",
       "      <td>Customer Name</td>\n",
       "      <td>2018-07-01</td>\n",
       "      <td>AU</td>\n",
       "      <td>8</td>\n",
       "      <td>1</td>\n",
       "      <td>14.31</td>\n",
       "      <td>1.02</td>\n",
       "      <td>13.29</td>\n",
       "      <td>13.029412</td>\n",
       "    </tr>\n",
       "    <tr>\n",
       "      <th>8</th>\n",
       "      <td>Reseller_ID9</td>\n",
       "      <td>Reseller Name 9</td>\n",
       "      <td>A-AU-Mun-2596123</td>\n",
       "      <td>Customer Name</td>\n",
       "      <td>2018-07-01</td>\n",
       "      <td>AU</td>\n",
       "      <td>9</td>\n",
       "      <td>1</td>\n",
       "      <td>70.08</td>\n",
       "      <td>5.01</td>\n",
       "      <td>65.07</td>\n",
       "      <td>12.988024</td>\n",
       "    </tr>\n",
       "  </tbody>\n",
       "</table>\n",
       "</div>"
      ],
      "text/plain": [
       "     ResellerID     ResellerName         AccountId   CustomerName  \\\n",
       "0  Reseller_ID1  Reseller Name 1  A-AU-Mun-2596123  Customer Name   \n",
       "1  Reseller_ID2  Reseller Name 2  A-AU-Mun-2596123  Customer Name   \n",
       "2  Reseller_ID3  Reseller Name 3  A-AU-Mun-2596123  Customer Name   \n",
       "3  Reseller_ID4  Reseller Name 4  A-AU-Mun-2596123  Customer Name   \n",
       "4  Reseller_ID5  Reseller Name 5  A-AU-Mun-2596123  Customer Name   \n",
       "5  Reseller_ID6  Reseller Name 6  A-AU-Mun-2596123  Customer Name   \n",
       "6  Reseller_ID7  Reseller Name 7  A-AU-Mun-2596123  Customer Name   \n",
       "7  Reseller_ID8  Reseller Name 8  A-AU-Mun-2596123  Customer Name   \n",
       "8  Reseller_ID9  Reseller Name 9  A-AU-Mun-2596123  Customer Name   \n",
       "\n",
       "  Shipment Report Month CountryId  SKUID  SKU Ship quantity  \\\n",
       "0            2018-07-01        AU      1                  2   \n",
       "1            2018-07-01        AU      2                  3   \n",
       "2            2018-07-01        AU      3                  4   \n",
       "3            2018-07-01        AU      4                  2   \n",
       "4            2018-07-01        AU      5                  1   \n",
       "5            2018-07-01        AU      6                  1   \n",
       "6            2018-07-01        AU      7                  1   \n",
       "7            2018-07-01        AU      8                  1   \n",
       "8            2018-07-01        AU      9                  1   \n",
       "\n",
       "   GROSS SELL TO (LC)  TOTAL REBATES (LC)  NET SELL-TO (LC)        ROI  \n",
       "0               95.58                6.82             88.76  13.014663  \n",
       "1              143.37               10.23            133.14  13.014663  \n",
       "2              191.16               13.64            177.52  13.014663  \n",
       "3               56.38                4.02             52.36  13.024876  \n",
       "4               44.77                3.20             41.57  12.990625  \n",
       "5               14.31                1.02             13.29  13.029412  \n",
       "6               14.31                1.02             13.29  13.029412  \n",
       "7               14.31                1.02             13.29  13.029412  \n",
       "8               70.08                5.01             65.07  12.988024  "
      ]
     },
     "execution_count": 19,
     "metadata": {},
     "output_type": "execute_result"
    }
   ],
   "source": [
    "# Look at  rows to ensure data is correct\n",
    "sellThru"
   ]
  },
  {
   "cell_type": "code",
   "execution_count": 20,
   "metadata": {},
   "outputs": [
    {
     "data": {
      "text/html": [
       "<div>\n",
       "<style scoped>\n",
       "    .dataframe tbody tr th:only-of-type {\n",
       "        vertical-align: middle;\n",
       "    }\n",
       "\n",
       "    .dataframe tbody tr th {\n",
       "        vertical-align: top;\n",
       "    }\n",
       "\n",
       "    .dataframe thead th {\n",
       "        text-align: right;\n",
       "    }\n",
       "</style>\n",
       "<table border=\"1\" class=\"dataframe\">\n",
       "  <thead>\n",
       "    <tr style=\"text-align: right;\">\n",
       "      <th></th>\n",
       "      <th>SKUID</th>\n",
       "      <th>SKU Ship quantity</th>\n",
       "      <th>GROSS SELL TO (LC)</th>\n",
       "      <th>TOTAL REBATES (LC)</th>\n",
       "      <th>NET SELL-TO (LC)</th>\n",
       "      <th>ROI</th>\n",
       "    </tr>\n",
       "  </thead>\n",
       "  <tbody>\n",
       "    <tr>\n",
       "      <th>count</th>\n",
       "      <td>9.000000</td>\n",
       "      <td>9.000000</td>\n",
       "      <td>9.000000</td>\n",
       "      <td>9.000000</td>\n",
       "      <td>9.000000</td>\n",
       "      <td>9.000000</td>\n",
       "    </tr>\n",
       "    <tr>\n",
       "      <th>mean</th>\n",
       "      <td>5.000000</td>\n",
       "      <td>1.777778</td>\n",
       "      <td>71.585556</td>\n",
       "      <td>5.108889</td>\n",
       "      <td>66.476667</td>\n",
       "      <td>13.015083</td>\n",
       "    </tr>\n",
       "    <tr>\n",
       "      <th>std</th>\n",
       "      <td>2.738613</td>\n",
       "      <td>1.092906</td>\n",
       "      <td>62.069321</td>\n",
       "      <td>4.429022</td>\n",
       "      <td>57.640301</td>\n",
       "      <td>0.015979</td>\n",
       "    </tr>\n",
       "    <tr>\n",
       "      <th>min</th>\n",
       "      <td>1.000000</td>\n",
       "      <td>1.000000</td>\n",
       "      <td>14.310000</td>\n",
       "      <td>1.020000</td>\n",
       "      <td>13.290000</td>\n",
       "      <td>12.988024</td>\n",
       "    </tr>\n",
       "    <tr>\n",
       "      <th>25%</th>\n",
       "      <td>3.000000</td>\n",
       "      <td>1.000000</td>\n",
       "      <td>14.310000</td>\n",
       "      <td>1.020000</td>\n",
       "      <td>13.290000</td>\n",
       "      <td>13.014663</td>\n",
       "    </tr>\n",
       "    <tr>\n",
       "      <th>50%</th>\n",
       "      <td>5.000000</td>\n",
       "      <td>1.000000</td>\n",
       "      <td>56.380000</td>\n",
       "      <td>4.020000</td>\n",
       "      <td>52.360000</td>\n",
       "      <td>13.014663</td>\n",
       "    </tr>\n",
       "    <tr>\n",
       "      <th>75%</th>\n",
       "      <td>7.000000</td>\n",
       "      <td>2.000000</td>\n",
       "      <td>95.580000</td>\n",
       "      <td>6.820000</td>\n",
       "      <td>88.760000</td>\n",
       "      <td>13.029412</td>\n",
       "    </tr>\n",
       "    <tr>\n",
       "      <th>max</th>\n",
       "      <td>9.000000</td>\n",
       "      <td>4.000000</td>\n",
       "      <td>191.160000</td>\n",
       "      <td>13.640000</td>\n",
       "      <td>177.520000</td>\n",
       "      <td>13.029412</td>\n",
       "    </tr>\n",
       "  </tbody>\n",
       "</table>\n",
       "</div>"
      ],
      "text/plain": [
       "          SKUID  SKU Ship quantity  GROSS SELL TO (LC)  TOTAL REBATES (LC)  \\\n",
       "count  9.000000           9.000000            9.000000            9.000000   \n",
       "mean   5.000000           1.777778           71.585556            5.108889   \n",
       "std    2.738613           1.092906           62.069321            4.429022   \n",
       "min    1.000000           1.000000           14.310000            1.020000   \n",
       "25%    3.000000           1.000000           14.310000            1.020000   \n",
       "50%    5.000000           1.000000           56.380000            4.020000   \n",
       "75%    7.000000           2.000000           95.580000            6.820000   \n",
       "max    9.000000           4.000000          191.160000           13.640000   \n",
       "\n",
       "       NET SELL-TO (LC)        ROI  \n",
       "count          9.000000   9.000000  \n",
       "mean          66.476667  13.015083  \n",
       "std           57.640301   0.015979  \n",
       "min           13.290000  12.988024  \n",
       "25%           13.290000  13.014663  \n",
       "50%           52.360000  13.014663  \n",
       "75%           88.760000  13.029412  \n",
       "max          177.520000  13.029412  "
      ]
     },
     "execution_count": 20,
     "metadata": {},
     "output_type": "execute_result"
    }
   ],
   "source": [
    "# Look at data stats\n",
    "sellThru.describe()"
   ]
  },
  {
   "cell_type": "code",
   "execution_count": 21,
   "metadata": {},
   "outputs": [],
   "source": [
    "#Import packages & prepare data for machine learning\n",
    "import numpy as np  \n",
    "from sklearn.cluster import KMeans \n",
    "import matplotlib.pyplot as plt  \n",
    "%matplotlib inline\n",
    "X = np.array(sellThru[['SKUID','ROI']])"
   ]
  },
  {
   "cell_type": "code",
   "execution_count": 22,
   "metadata": {},
   "outputs": [
    {
     "data": {
      "text/plain": [
       "<matplotlib.collections.PathCollection at 0x7f310c64e748>"
      ]
     },
     "execution_count": 22,
     "metadata": {},
     "output_type": "execute_result"
    },
    {
     "data": {
      "image/png": "[encoded data removed]",
      "text/plain": [
       "<Figure size 432x288 with 1 Axes>"
      ]
     },
     "metadata": {},
     "output_type": "display_data"
    }
   ],
   "source": [
    "#Visualize Data\n",
    "plt.scatter(X[:,0],X[:,1], label='True Position')  "
   ]
  },
  {
   "cell_type": "code",
   "execution_count": 25,
   "metadata": {},
   "outputs": [
    {
     "data": {
      "text/plain": [
       "KMeans(algorithm='auto', copy_x=True, init='k-means++', max_iter=300,\n",
       "    n_clusters=3, n_init=10, n_jobs=1, precompute_distances='auto',\n",
       "    random_state=None, tol=0.0001, verbose=0)"
      ]
     },
     "execution_count": 25,
     "metadata": {},
     "output_type": "execute_result"
    }
   ],
   "source": [
    "# Apply k means to fit SKUs into 2 Clusters\n",
    "kmeans = KMeans(n_clusters=3)  \n",
    "kmeans.fit(X)  "
   ]
  },
  {
   "cell_type": "code",
   "execution_count": 26,
   "metadata": {},
   "outputs": [
    {
     "name": "stdout",
     "output_type": "stream",
     "text": [
      "[[ 5.         13.0149708 ]\n",
      " [ 2.         13.01466276]\n",
      " [ 8.         13.01561583]]\n"
     ]
    }
   ],
   "source": [
    "print(kmeans.cluster_centers_) "
   ]
  },
  {
   "cell_type": "code",
   "execution_count": 27,
   "metadata": {},
   "outputs": [
    {
     "name": "stdout",
     "output_type": "stream",
     "text": [
      "[1 1 1 0 0 0 2 2 2]\n"
     ]
    }
   ],
   "source": [
    "print(kmeans.labels)  "
   ]
  },
  {
   "cell_type": "code",
   "execution_count": 29,
   "metadata": {},
   "outputs": [
    {
     "data": {
      "text/plain": [
       "<matplotlib.collections.PathCollection at 0x7f310c4f7518>"
      ]
     },
     "execution_count": 29,
     "metadata": {},
     "output_type": "execute_result"
    },
    {
     "data": {
      "image/png": "[encoded data removed]",
      "text/plain": [
       "<Figure size 432x288 with 1 Axes>"
      ]
     },
     "metadata": {},
     "output_type": "display_data"
    }
   ],
   "source": [
    "plt.scatter(X[:,0], X[:,1], c=kmeans.labels_, cmap='rainbow')  \n",
    "plt.scatter(kmeans.cluster_centers_[:,0] ,kmeans.cluster_centers_[:,1], color='black')  "
   ]
  }
 ],
 "metadata": {
  "kernelspec": {
   "display_name": "conda_python3",
   "language": "python",
   "name": "conda_python3"
  },
  "language_info": {
   "codemirror_mode": {
    "name": "ipython",
    "version": 3
   },
   "file_extension": ".py",
   "mimetype": "text/x-python",
   "name": "python",
   "nbconvert_exporter": "python",
   "pygments_lexer": "ipython3",
   "version": "3.6.5"
  }
 },
 "nbformat": 4,
 "nbformat_minor": 2
}
